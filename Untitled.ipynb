{
  "nbformat": 4,
  "nbformat_minor": 0,
  "metadata": {
    "colab": {
      "provenance": [],
      "authorship_tag": "ABX9TyOWkQrSk7ngmVU/gTchZqaS",
      "include_colab_link": true
    },
    "kernelspec": {
      "name": "python3",
      "display_name": "Python 3"
    },
    "language_info": {
      "name": "python"
    }
  },
  "cells": [
    {
      "cell_type": "markdown",
      "metadata": {
        "id": "view-in-github",
        "colab_type": "text"
      },
      "source": [
        "<a href=\"https://colab.research.google.com/github/ShravaniKharade2110/CodeClause-Internship/blob/main/Untitled.ipynb\" target=\"_parent\"><img src=\"https://colab.research.google.com/assets/colab-badge.svg\" alt=\"Open In Colab\"/></a>"
      ]
    },
    {
      "cell_type": "code",
      "execution_count": null,
      "metadata": {
        "id": "Gr01frFEeuEU"
      },
      "outputs": [],
      "source": [
        "!pip install streamlit pandas"
      ]
    },
    {
      "cell_type": "code",
      "source": [
        "import streamlit as st\n",
        "import pandas as pd"
      ],
      "metadata": {
        "id": "eV4T4nifeyk2"
      },
      "execution_count": null,
      "outputs": []
    },
    {
      "cell_type": "code",
      "source": [
        "uploaded_file = st.file_uploader(\"Upload Customer Data (CSV):\", type=\"csv\")\n",
        "\n",
        "if uploaded_file is not None:\n",
        "  df = pd.read_csv(uploaded_file)\n",
        "else:\n",
        "  # Replace with your sample data (optional)\n",
        "  st.warning(\"Please upload your customer data in CSV format.\")\n",
        "  # Sample data example (replace with your actual data)\n",
        "  # df = pd.DataFrame({\n",
        "  #     \"CustomerID\": [1, 2, 3, 4, 5],\n",
        "  #     \"Purchase Frequency\": [3, 1, 5, 2, 4],\n",
        "  #     \"Monetary Value\": [100, 50, 200, 75, 150]\n",
        "  # })"
      ],
      "metadata": {
        "id": "vcvio5yze9Ae"
      },
      "execution_count": null,
      "outputs": []
    },
    {
      "cell_type": "code",
      "source": [
        "# Replace with your actual customer data\n",
        "df = pd.DataFrame({\n",
        "  \"CustomerID\": [1, 2, 3, 4, 5],\n",
        "  \"Purchase Frequency\": [3, 1, 5, 2, 4],\n",
        "  \"Monetary Value\": [100, 50, 200, 75, 150]\n",
        "})"
      ],
      "metadata": {
        "id": "y3LrTPsJfAPL"
      },
      "execution_count": null,
      "outputs": []
    },
    {
      "cell_type": "code",
      "source": [
        "st.title(\"Customer Segmentation Dashboard\")\n"
      ],
      "metadata": {
        "id": "qNJBFBDBfDuv"
      },
      "execution_count": null,
      "outputs": []
    },
    {
      "cell_type": "code",
      "source": [
        "st.subheader(\"Customer Data Overview\")\n",
        "st.dataframe(df.head(10))  # Display the first 10 rows\n"
      ],
      "metadata": {
        "id": "FO_Lx0uAfGh7"
      },
      "execution_count": null,
      "outputs": []
    },
    {
      "cell_type": "code",
      "source": [
        "segmentation_method = st.selectbox(\"Choose Segmentation Method:\", [\"RFM Analysis\", \"Other (to be implemented)\"])"
      ],
      "metadata": {
        "id": "DGbuC0gNfKr4"
      },
      "execution_count": null,
      "outputs": []
    },
    {
      "cell_type": "code",
      "source": [
        "import pandas as pd\n",
        "\n",
        "def load_data(filepath):\n",
        "  \"\"\"Loads customer data from a CSV file.\"\"\"\n",
        "  try:\n",
        "    df = pd.read_csv(filepath)\n",
        "    return df\n",
        "  except FileNotFoundError:\n",
        "    return None\n",
        "  except pd.errors.ParserError:\n",
        "    return None  # Handle potential CSV parsing errors\n",
        "\n",
        "def save_data(df, filepath):\n",
        "  \"\"\"Saves segmented data as a CSV file.\"\"\"\n",
        "  df.to_csv(filepath, index=False)\n"
      ],
      "metadata": {
        "id": "pqhxarosgkc0"
      },
      "execution_count": null,
      "outputs": []
    },
    {
      "cell_type": "code",
      "source": [
        "from sklearn.cluster import KMeans\n",
        "\n",
        "def segment_rfm(df, recency_threshold, frequency_threshold, monetary_threshold):\n",
        "  # Implement RFM segmentation logic\n",
        "  # Assign scores based on recency, frequency, and monetary value\n",
        "  # ...\n",
        "  return df\n",
        "\n",
        "def segment_kmeans(df, num_clusters):\n",
        "  # Create KMeans model and perform clustering\n",
        "  kmeans = KMeans(n_clusters=num_clusters)\n",
        "  kmeans.fit(df)  # Fit the model to customer data\n",
        "  df['segment'] = kmeans.labels_  # Add a new column for segment labels\n",
        "  return df\n"
      ],
      "metadata": {
        "id": "0yH65jxPgneR"
      },
      "execution_count": null,
      "outputs": []
    },
    {
      "cell_type": "code",
      "source": [
        "from flask import Flask, render_template, request\n",
        "\n",
        "app = Flask(__name__)\n",
        "\n",
        "@app.route(\"/\", methods=[\"GET\", \"POST\"])\n",
        "def customer_segmentation():\n",
        "  if request.method == \"POST\":\n",
        "    uploaded_file = request.files[\"data_file\"]\n",
        "    segmentation_method = request.form[\"segmentation_method\"]\n",
        "    if segmentation_method == \"rfm\":\n",
        "      recency_threshold = int(request.form[\"recency_threshold\"])\n",
        "      frequency_threshold = int(request.form[\"frequency_threshold\"])\n",
        "      monetary_threshold = float(request.form[\"monetary_threshold\"])\n",
        "      df = load_data(uploaded_file)\n",
        "      if df is not None:\n",
        "        df = segment_rfm(df, recency_threshold, frequency_threshold, monetary_threshold)\n",
        "    elif segmentation_method == \"kmeans\":\n",
        "      num_clusters = int(request.form[\"num_clusters\"])\n",
        "      df = load_data(uploaded_file)\n",
        "      if df is not None:\n",
        "        df = segment_kmeans(df, num_clusters)\n",
        "  else:\n",
        "    df = None\n",
        "  return render_template(\"index.html\", df=df)\n",
        "\n",
        "if __name__ == \"__main__\":\n",
        "  app.run(debug=True)\n"
      ],
      "metadata": {
        "colab": {
          "base_uri": "https://localhost:8080/"
        },
        "id": "V_40b6CBgqEx",
        "outputId": "15123668-c4ad-49eb-c79e-c131dc8840c9"
      },
      "execution_count": null,
      "outputs": [
        {
          "metadata": {
            "tags": null
          },
          "name": "stdout",
          "output_type": "stream",
          "text": [
            " * Serving Flask app '__main__'\n",
            " * Debug mode: on\n"
          ]
        },
        {
          "metadata": {
            "tags": null
          },
          "name": "stderr",
          "output_type": "stream",
          "text": [
            "INFO:werkzeug:\u001b[31m\u001b[1mWARNING: This is a development server. Do not use it in a production deployment. Use a production WSGI server instead.\u001b[0m\n",
            " * Running on http://127.0.0.1:5000\n",
            "INFO:werkzeug:\u001b[33mPress CTRL+C to quit\u001b[0m\n",
            "INFO:werkzeug: * Restarting with watchdog (inotify)\n"
          ]
        }
      ]
    }
  ]
}